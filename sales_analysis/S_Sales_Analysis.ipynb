{
 "cells": [
  {
   "cell_type": "code",
   "execution_count": 3,
   "id": "61dc1c4f-50e3-4f91-9da0-39a8c73cf60d",
   "metadata": {},
   "outputs": [
    {
     "name": "stdout",
     "output_type": "stream",
     "text": [
      "   Row ID        Order ID  Order Date   Ship Date       Ship Mode Customer ID  \\\n",
      "0       1  CA-2016-152156  08-11-2016  11-11-2016    Second Class    CG-12520   \n",
      "1       2  CA-2016-152156  08-11-2016  11-11-2016    Second Class    CG-12520   \n",
      "2       3  CA-2016-138688  12-06-2016  16-06-2016    Second Class    DV-13045   \n",
      "3       4  US-2015-108966  11-10-2015  18-10-2015  Standard Class    SO-20335   \n",
      "4       5  US-2015-108966  11-10-2015  18-10-2015  Standard Class    SO-20335   \n",
      "\n",
      "     Customer Name    Segment        Country             City  ...  \\\n",
      "0      Claire Gute   Consumer  United States        Henderson  ...   \n",
      "1      Claire Gute   Consumer  United States        Henderson  ...   \n",
      "2  Darrin Van Huff  Corporate  United States      Los Angeles  ...   \n",
      "3   Sean O'Donnell   Consumer  United States  Fort Lauderdale  ...   \n",
      "4   Sean O'Donnell   Consumer  United States  Fort Lauderdale  ...   \n",
      "\n",
      "  Postal Code  Region       Product ID         Category Sub-Category  \\\n",
      "0       42420   South  FUR-BO-10001798        Furniture    Bookcases   \n",
      "1       42420   South  FUR-CH-10000454        Furniture       Chairs   \n",
      "2       90036    West  OFF-LA-10000240  Office Supplies       Labels   \n",
      "3       33311   South  FUR-TA-10000577        Furniture       Tables   \n",
      "4       33311   South  OFF-ST-10000760  Office Supplies      Storage   \n",
      "\n",
      "                                        Product Name     Sales  Quantity  \\\n",
      "0                  Bush Somerset Collection Bookcase  261.9600         2   \n",
      "1  Hon Deluxe Fabric Upholstered Stacking Chairs,...  731.9400         3   \n",
      "2  Self-Adhesive Address Labels for Typewriters b...   14.6200         2   \n",
      "3      Bretford CR4500 Series Slim Rectangular Table  957.5775         5   \n",
      "4                     Eldon Fold 'N Roll Cart System   22.3680         2   \n",
      "\n",
      "   Discount    Profit  \n",
      "0      0.00   41.9136  \n",
      "1      0.00  219.5820  \n",
      "2      0.00    6.8714  \n",
      "3      0.45 -383.0310  \n",
      "4      0.20    2.5164  \n",
      "\n",
      "[5 rows x 21 columns]\n",
      "<class 'pandas.core.frame.DataFrame'>\n",
      "RangeIndex: 9994 entries, 0 to 9993\n",
      "Data columns (total 21 columns):\n",
      " #   Column         Non-Null Count  Dtype  \n",
      "---  ------         --------------  -----  \n",
      " 0   Row ID         9994 non-null   int64  \n",
      " 1   Order ID       9994 non-null   object \n",
      " 2   Order Date     9994 non-null   object \n",
      " 3   Ship Date      9994 non-null   object \n",
      " 4   Ship Mode      9994 non-null   object \n",
      " 5   Customer ID    9994 non-null   object \n",
      " 6   Customer Name  9994 non-null   object \n",
      " 7   Segment        9994 non-null   object \n",
      " 8   Country        9994 non-null   object \n",
      " 9   City           9994 non-null   object \n",
      " 10  State          9994 non-null   object \n",
      " 11  Postal Code    9994 non-null   int64  \n",
      " 12  Region         9994 non-null   object \n",
      " 13  Product ID     9994 non-null   object \n",
      " 14  Category       9994 non-null   object \n",
      " 15  Sub-Category   9994 non-null   object \n",
      " 16  Product Name   9994 non-null   object \n",
      " 17  Sales          9994 non-null   float64\n",
      " 18  Quantity       9994 non-null   int64  \n",
      " 19  Discount       9994 non-null   float64\n",
      " 20  Profit         9994 non-null   float64\n",
      "dtypes: float64(3), int64(3), object(15)\n",
      "memory usage: 1.6+ MB\n",
      "None\n",
      "            Row ID   Postal Code         Sales     Quantity     Discount  \\\n",
      "count  9994.000000   9994.000000   9994.000000  9994.000000  9994.000000   \n",
      "mean   4997.500000  55190.379428    229.858001     3.789574     0.156203   \n",
      "std    2885.163629  32063.693350    623.245101     2.225110     0.206452   \n",
      "min       1.000000   1040.000000      0.444000     1.000000     0.000000   \n",
      "25%    2499.250000  23223.000000     17.280000     2.000000     0.000000   \n",
      "50%    4997.500000  56430.500000     54.490000     3.000000     0.200000   \n",
      "75%    7495.750000  90008.000000    209.940000     5.000000     0.200000   \n",
      "max    9994.000000  99301.000000  22638.480000    14.000000     0.800000   \n",
      "\n",
      "            Profit  \n",
      "count  9994.000000  \n",
      "mean     28.656896  \n",
      "std     234.260108  \n",
      "min   -6599.978000  \n",
      "25%       1.728750  \n",
      "50%       8.666500  \n",
      "75%      29.364000  \n",
      "max    8399.976000  \n"
     ]
    }
   ],
   "source": [
    "import pandas as pd  \n",
    "df=pd.read_csv(\"SampleSuperstore.csv\")\n",
    "print(df.head())\n",
    "print(df.info())\n",
    "print(df.describe())"
   ]
  },
  {
   "cell_type": "code",
   "execution_count": 5,
   "id": "03887306-d240-443a-ae6d-73d2ea6969fb",
   "metadata": {},
   "outputs": [
    {
     "name": "stdout",
     "output_type": "stream",
     "text": [
      "Row ID           0\n",
      "Order ID         0\n",
      "Order Date       0\n",
      "Ship Date        0\n",
      "Ship Mode        0\n",
      "Customer ID      0\n",
      "Customer Name    0\n",
      "Segment          0\n",
      "Country          0\n",
      "City             0\n",
      "State            0\n",
      "Postal Code      0\n",
      "Region           0\n",
      "Product ID       0\n",
      "Category         0\n",
      "Sub-Category     0\n",
      "Product Name     0\n",
      "Sales            0\n",
      "Quantity         0\n",
      "Discount         0\n",
      "Profit           0\n",
      "dtype: int64\n",
      "(9994, 21)\n"
     ]
    }
   ],
   "source": [
    "print(df.isnull().sum())\n",
    "df.fillna(0,inplace=True)\n",
    "df.drop_duplicates(inplace=True)\n",
    "print(df.shape)"
   ]
  },
  {
   "cell_type": "code",
   "execution_count": 10,
   "id": "66c69ea6-846e-4497-b352-f86bbafa0662",
   "metadata": {},
   "outputs": [
    {
     "name": "stdout",
     "output_type": "stream",
     "text": [
      "Total Sales\n",
      " 2297200.8603\n",
      "top 5 products by sales\n",
      "                                            Product Name      Sales\n",
      "2697  Cisco TelePresence System EX90 Videoconferenci...  22638.480\n",
      "6826              Canon imageCLASS 2200 Advanced Copier  17499.950\n",
      "8153              Canon imageCLASS 2200 Advanced Copier  13999.960\n",
      "2623              Canon imageCLASS 2200 Advanced Copier  11199.968\n",
      "4190              Canon imageCLASS 2200 Advanced Copier  10499.970\n",
      "profit by region: Region\n",
      "Central     39706.3625\n",
      "East        91522.7800\n",
      "South       46749.4303\n",
      "West       108418.4489\n",
      "Name: Profit, dtype: float64\n"
     ]
    }
   ],
   "source": [
    "total_sales=df['Sales'].sum()\n",
    "print(\"Total Sales\\n\",total_sales)\n",
    "\n",
    "top5=df.sort_values('Sales',ascending=False).head()\n",
    "print(\"top 5 products by sales\\n\",top5[['Product Name','Sales']])\n",
    "\n",
    "profit_region=df.groupby('Region')['Profit'].sum()\n",
    "print(\"profit by region:\",profit_region)"
   ]
  },
  {
   "cell_type": "code",
   "execution_count": 12,
   "id": "763646d6-534b-43a5-8f00-da2c686eccd6",
   "metadata": {},
   "outputs": [
    {
     "data": {
      "image/png": "[encoded data removed]",
      "text/plain": [
       "<Figure size 640x480 with 1 Axes>"
      ]
     },
     "metadata": {},
     "output_type": "display_data"
    }
   ],
   "source": [
    "import matplotlib.pyplot as plt\n",
    "df['Category'].value_counts().plot(kind='bar',color='red')\n",
    "plt.title(\"orders by category\")\n",
    "plt.xlabel(\"Category\")\n",
    "plt.ylabel(\"no of rows\")\n",
    "plt.show()"
   ]
  },
  {
   "cell_type": "code",
   "execution_count": null,
   "id": "3afb007e-748d-4f3e-a81a-91934b8b0ed2",
   "metadata": {},
   "outputs": [],
   "source": []
  }
 ],
 "metadata": {
  "kernelspec": {
   "display_name": "Python 3 (ipykernel)",
   "language": "python",
   "name": "python3"
  },
  "language_info": {
   "codemirror_mode": {
    "name": "ipython",
    "version": 3
   },
   "file_extension": ".py",
   "mimetype": "text/x-python",
   "name": "python",
   "nbconvert_exporter": "python",
   "pygments_lexer": "ipython3",
   "version": "3.13.7"
  }
 },
 "nbformat": 4,
 "nbformat_minor": 5
}
